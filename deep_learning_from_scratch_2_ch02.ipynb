{
  "nbformat": 4,
  "nbformat_minor": 0,
  "metadata": {
    "colab": {
      "name": "deep-learning-from-scratch-2-ch02.ipynb",
      "version": "0.3.2",
      "provenance": [],
      "collapsed_sections": [],
      "include_colab_link": true
    },
    "kernelspec": {
      "name": "python3",
      "display_name": "Python 3"
    },
    "accelerator": "GPU"
  },
  "cells": [
    {
      "cell_type": "markdown",
      "metadata": {
        "id": "view-in-github",
        "colab_type": "text"
      },
      "source": [
        "<a href=\"https://colab.research.google.com/github/kgeneral/deep-learning-from-scratch-2/blob/master/deep_learning_from_scratch_2_ch02.ipynb\" target=\"_parent\"><img src=\"https://colab.research.google.com/assets/colab-badge.svg\" alt=\"Open In Colab\"/></a>"
      ]
    },
    {
      "cell_type": "code",
      "metadata": {
        "id": "sQ7ADc5lpiff",
        "colab_type": "code",
        "outputId": "25518a1b-c240-4300-dd91-89734da608de",
        "colab": {
          "base_uri": "https://localhost:8080/",
          "height": 136
        }
      },
      "source": [
        "!git clone https://github.com/kgeneral/deep-learning-from-scratch-2.git"
      ],
      "execution_count": 1,
      "outputs": [
        {
          "output_type": "stream",
          "text": [
            "Cloning into 'deep-learning-from-scratch-2'...\n",
            "remote: Enumerating objects: 46, done.\u001b[K\n",
            "remote: Counting objects: 100% (46/46), done.\u001b[K\n",
            "remote: Compressing objects: 100% (38/38), done.\u001b[K\n",
            "remote: Total 574 (delta 20), reused 24 (delta 8), pack-reused 528\u001b[K\n",
            "Receiving objects: 100% (574/574), 7.90 MiB | 10.17 MiB/s, done.\n",
            "Resolving deltas: 100% (336/336), done.\n"
          ],
          "name": "stdout"
        }
      ]
    },
    {
      "cell_type": "code",
      "metadata": {
        "id": "9gaeA6gTGfEq",
        "colab_type": "code",
        "colab": {
          "base_uri": "https://localhost:8080/",
          "height": 255
        },
        "outputId": "66af9145-9a92-4ab0-ecf0-0df015e45ab4"
      },
      "source": [
        "#!cd deep-learning-from-scratch-2 && git pull "
      ],
      "execution_count": 43,
      "outputs": [
        {
          "output_type": "stream",
          "text": [
            "remote: Enumerating objects: 12, done.\u001b[K\n",
            "remote: Counting objects:   8% (1/12)   \u001b[K\rremote: Counting objects:  16% (2/12)   \u001b[K\rremote: Counting objects:  25% (3/12)   \u001b[K\rremote: Counting objects:  33% (4/12)   \u001b[K\rremote: Counting objects:  41% (5/12)   \u001b[K\rremote: Counting objects:  50% (6/12)   \u001b[K\rremote: Counting objects:  58% (7/12)   \u001b[K\rremote: Counting objects:  66% (8/12)   \u001b[K\rremote: Counting objects:  75% (9/12)   \u001b[K\rremote: Counting objects:  83% (10/12)   \u001b[K\rremote: Counting objects:  91% (11/12)   \u001b[K\rremote: Counting objects: 100% (12/12)   \u001b[K\rremote: Counting objects: 100% (12/12), done.\u001b[K\n",
            "remote: Compressing objects:  10% (1/10)   \u001b[K\rremote: Compressing objects:  20% (2/10)   \u001b[K\rremote: Compressing objects:  30% (3/10)   \u001b[K\rremote: Compressing objects:  40% (4/10)   \u001b[K\rremote: Compressing objects:  50% (5/10)   \u001b[K\rremote: Compressing objects:  60% (6/10)   \u001b[K\rremote: Compressing objects:  70% (7/10)   \u001b[K\rremote: Compressing objects:  80% (8/10)   \u001b[K\rremote: Compressing objects:  90% (9/10)   \u001b[K\rremote: Compressing objects: 100% (10/10)   \u001b[K\rremote: Compressing objects: 100% (10/10), done.\u001b[K\n",
            "remote: Total 10 (delta 5), reused 0 (delta 0), pack-reused 0\u001b[K\n",
            "Unpacking objects:  10% (1/10)   \rUnpacking objects:  20% (2/10)   \rUnpacking objects:  30% (3/10)   \rUnpacking objects:  40% (4/10)   \rUnpacking objects:  50% (5/10)   \rUnpacking objects:  60% (6/10)   \rUnpacking objects:  70% (7/10)   \rUnpacking objects:  80% (8/10)   \rUnpacking objects:  90% (9/10)   \rUnpacking objects: 100% (10/10)   \rUnpacking objects: 100% (10/10), done.\n",
            "From https://github.com/kgeneral/deep-learning-from-scratch-2\n",
            "   0a28fc7..94ab233  master     -> origin/master\n",
            "Updating 0a28fc7..94ab233\n",
            "Fast-forward\n",
            " ch02/count_method_big_gpu.py            |  35 \u001b[32m++\u001b[m\n",
            " deep_learning_from_scratch_2_ch02.ipynb | 902 \u001b[32m++++++++++++++++++++++++++++++++\u001b[m\n",
            " 2 files changed, 937 insertions(+)\n",
            " create mode 100644 ch02/count_method_big_gpu.py\n",
            " create mode 100644 deep_learning_from_scratch_2_ch02.ipynb\n"
          ],
          "name": "stdout"
        }
      ]
    },
    {
      "cell_type": "code",
      "metadata": {
        "id": "NXuPE6sFsHKu",
        "colab_type": "code",
        "colab": {}
      },
      "source": [
        "!cp ./deep-learning-from-scratch-2/ch02/* ."
      ],
      "execution_count": 0,
      "outputs": []
    },
    {
      "cell_type": "code",
      "metadata": {
        "id": "N85G7qd4sMYv",
        "colab_type": "code",
        "outputId": "8bbd2d36-19ad-44b1-8086-7b9950479842",
        "colab": {
          "base_uri": "https://localhost:8080/",
          "height": 221
        }
      },
      "source": [
        "\n",
        "!ls -al ."
      ],
      "execution_count": 3,
      "outputs": [
        {
          "output_type": "stream",
          "text": [
            "total 44\n",
            "drwxr-xr-x  1 root root 4096 Jul  2 09:16 .\n",
            "drwxr-xr-x  1 root root 4096 Jul  2 09:06 ..\n",
            "drwxr-xr-x  1 root root 4096 Jun 26 16:07 .config\n",
            "-rw-r--r--  1 root root  892 Jul  2 09:16 count_method_big.py\n",
            "-rw-r--r--  1 root root  654 Jul  2 09:16 count_method_small.py\n",
            "drwxr-xr-x 13 root root 4096 Jul  2 09:16 deep-learning-from-scratch-2\n",
            "-rw-r--r--  1 root root  335 Jul  2 09:16 most_similar.py\n",
            "-rw-r--r--  1 root root  473 Jul  2 09:16 ppmi.py\n",
            "drwxr-xr-x  1 root root 4096 Jun 18 16:14 sample_data\n",
            "-rw-r--r--  1 root root  489 Jul  2 09:16 show_ptb.py\n",
            "-rw-r--r--  1 root root  415 Jul  2 09:16 similarity.py\n"
          ],
          "name": "stdout"
        }
      ]
    },
    {
      "cell_type": "code",
      "metadata": {
        "id": "kPyGQlK5pmXk",
        "colab_type": "code",
        "colab": {}
      },
      "source": [
        "!ln -s ./deep-learning-from-scratch-2/common common"
      ],
      "execution_count": 0,
      "outputs": []
    },
    {
      "cell_type": "code",
      "metadata": {
        "id": "1ZpSv_GDsUPD",
        "colab_type": "code",
        "colab": {}
      },
      "source": [
        "!ln -s ./deep-learning-from-scratch-2/dataset dataset"
      ],
      "execution_count": 0,
      "outputs": []
    },
    {
      "cell_type": "code",
      "metadata": {
        "id": "fBrvnmuGqO_8",
        "colab_type": "code",
        "outputId": "0010a407-b359-4f57-bcfd-1a83a4b259c8",
        "colab": {
          "base_uri": "https://localhost:8080/",
          "height": 238
        }
      },
      "source": [
        "!ls -al common/"
      ],
      "execution_count": 6,
      "outputs": [
        {
          "output_type": "stream",
          "text": [
            "total 68\n",
            "drwxr-xr-x  2 root root  4096 Jul  2 09:16 .\n",
            "drwxr-xr-x 13 root root  4096 Jul  2 09:16 ..\n",
            "-rw-r--r--  1 root root  1277 Jul  2 09:16 base_model.py\n",
            "-rw-r--r--  1 root root    29 Jul  2 09:16 config.py\n",
            "-rw-r--r--  1 root root   772 Jul  2 09:16 functions.py\n",
            "-rw-r--r--  1 root root     0 Jul  2 09:16 __init__.py\n",
            "-rw-r--r--  1 root root  3878 Jul  2 09:16 layers.py\n",
            "-rw-r--r--  1 root root   341 Jul  2 09:16 np.py\n",
            "-rw-r--r--  1 root root  3560 Jul  2 09:16 optimizer.py\n",
            "-rw-r--r--  1 root root 16182 Jul  2 09:16 time_layers.py\n",
            "-rw-r--r--  1 root root  6406 Jul  2 09:16 trainer.py\n",
            "-rw-r--r--  1 root root  8836 Jul  2 09:16 util.py\n"
          ],
          "name": "stdout"
        }
      ]
    },
    {
      "cell_type": "code",
      "metadata": {
        "id": "RL5kcdVksu0g",
        "colab_type": "code",
        "colab": {
          "base_uri": "https://localhost:8080/",
          "height": 578
        },
        "outputId": "2aeb2929-30fd-463b-8803-b1226c0d6c0d"
      },
      "source": [
        "cat count_method_big.py"
      ],
      "execution_count": 8,
      "outputs": [
        {
          "output_type": "stream",
          "text": [
            "# coding: utf-8\n",
            "import sys\n",
            "sys.path.append('..')\n",
            "import numpy as np\n",
            "from common.util import most_similar, create_co_matrix, ppmi\n",
            "from dataset import ptb\n",
            "\n",
            "\n",
            "window_size = 2\n",
            "wordvec_size = 100\n",
            "\n",
            "corpus, word_to_id, id_to_word = ptb.load_data('train')\n",
            "vocab_size = len(word_to_id)\n",
            "print('동시발생 수 계산 ...')\n",
            "C = create_co_matrix(corpus, vocab_size, window_size)\n",
            "print('PPMI 계산 ...')\n",
            "W = ppmi(C, verbose=True)\n",
            "\n",
            "print('calculating SVD ...')\n",
            "try:\n",
            "    # truncated SVD (빠르다!)\n",
            "    from sklearn.utils.extmath import randomized_svd\n",
            "    U, S, V = randomized_svd(W, n_components=wordvec_size, n_iter=5,\n",
            "                             random_state=None)\n",
            "except ImportError:\n",
            "    # SVD (느리다)\n",
            "    U, S, V = np.linalg.svd(W)\n",
            "\n",
            "word_vecs = U[:, :wordvec_size]\n",
            "\n",
            "querys = ['you', 'year', 'car', 'toyota']\n",
            "for query in querys:\n",
            "    most_similar(query, word_to_id, id_to_word, word_vecs, top=5)\n"
          ],
          "name": "stdout"
        }
      ]
    },
    {
      "cell_type": "code",
      "metadata": {
        "id": "JTyVjxWi-l7s",
        "colab_type": "code",
        "colab": {}
      },
      "source": [
        "# coding: utf-8\n",
        "import sys\n",
        "sys.path.append('..')\n",
        "import numpy as np\n",
        "\n",
        "np.set_printoptions(threshold=sys.maxsize) # for debug\n",
        "\n",
        "#from common import config\n",
        "#config.GPU = True\n"
      ],
      "execution_count": 0,
      "outputs": []
    },
    {
      "cell_type": "code",
      "metadata": {
        "id": "Esk12aWQ_sYp",
        "colab_type": "code",
        "colab": {}
      },
      "source": [
        "def preprocess(text):\n",
        "    text = text.lower()\n",
        "    text = text.replace('.', ' .')\n",
        "    words = text.split(' ')\n",
        "\n",
        "    word_to_id = {}\n",
        "    id_to_word = {}\n",
        "    for word in words:\n",
        "        if word not in word_to_id:\n",
        "            new_id = len(word_to_id)\n",
        "            word_to_id[word] = new_id\n",
        "            id_to_word[new_id] = word\n",
        "\n",
        "    corpus = np.array([word_to_id[w] for w in words])\n",
        "\n",
        "    return corpus, word_to_id, id_to_word"
      ],
      "execution_count": 0,
      "outputs": []
    },
    {
      "cell_type": "code",
      "metadata": {
        "id": "8XYFydtd_vbb",
        "colab_type": "code",
        "colab": {}
      },
      "source": [
        "text = 'You say goodbye and I say hello.'\n",
        "corpus, word_to_id, id_to_word = preprocess(text)"
      ],
      "execution_count": 0,
      "outputs": []
    },
    {
      "cell_type": "code",
      "metadata": {
        "id": "_TQQz0Z-_4fV",
        "colab_type": "code",
        "colab": {
          "base_uri": "https://localhost:8080/",
          "height": 34
        },
        "outputId": "5866d123-4acd-4807-bdf4-42541801f367"
      },
      "source": [
        "corpus"
      ],
      "execution_count": 14,
      "outputs": [
        {
          "output_type": "execute_result",
          "data": {
            "text/plain": [
              "array([0, 1, 2, 3, 4, 1, 5, 6])"
            ]
          },
          "metadata": {
            "tags": []
          },
          "execution_count": 14
        }
      ]
    },
    {
      "cell_type": "code",
      "metadata": {
        "id": "ERQETVB9_6gu",
        "colab_type": "code",
        "colab": {
          "base_uri": "https://localhost:8080/",
          "height": 34
        },
        "outputId": "81223795-c1be-474c-a021-c3f584ab4e71"
      },
      "source": [
        "word_to_id"
      ],
      "execution_count": 15,
      "outputs": [
        {
          "output_type": "execute_result",
          "data": {
            "text/plain": [
              "{'.': 6, 'and': 3, 'goodbye': 2, 'hello': 5, 'i': 4, 'say': 1, 'you': 0}"
            ]
          },
          "metadata": {
            "tags": []
          },
          "execution_count": 15
        }
      ]
    },
    {
      "cell_type": "code",
      "metadata": {
        "id": "sk6w65rA_7TW",
        "colab_type": "code",
        "colab": {
          "base_uri": "https://localhost:8080/",
          "height": 34
        },
        "outputId": "abd270ea-7edf-4e2a-dc75-8cbee04cce64"
      },
      "source": [
        "id_to_word"
      ],
      "execution_count": 16,
      "outputs": [
        {
          "output_type": "execute_result",
          "data": {
            "text/plain": [
              "{0: 'you', 1: 'say', 2: 'goodbye', 3: 'and', 4: 'i', 5: 'hello', 6: '.'}"
            ]
          },
          "metadata": {
            "tags": []
          },
          "execution_count": 16
        }
      ]
    },
    {
      "cell_type": "code",
      "metadata": {
        "id": "8-tlJ1s4__qJ",
        "colab_type": "code",
        "colab": {}
      },
      "source": [
        "def create_co_matrix(corpus, vocab_size, window_size=1):\n",
        "    '''동시발생 행렬 생성\n",
        "    :param corpus: 말뭉치(단어 ID 목록)\n",
        "    :param vocab_size: 어휘 수\n",
        "    :param window_size: 윈도우 크기(윈도우 크기가 1이면 타깃 단어 좌우 한 단어씩이 맥락에 포함)\n",
        "    :return: 동시발생 행렬\n",
        "    '''\n",
        "    corpus_size = len(corpus)\n",
        "    co_matrix = np.zeros((vocab_size, vocab_size), dtype=np.int32)\n",
        "\n",
        "    for idx, word_id in enumerate(corpus):\n",
        "        for i in range(1, window_size + 1):\n",
        "            left_idx = idx - i\n",
        "            right_idx = idx + i\n",
        "\n",
        "            if left_idx >= 0:\n",
        "                left_word_id = corpus[left_idx]\n",
        "                co_matrix[word_id, left_word_id] += 1\n",
        "\n",
        "            if right_idx < corpus_size:\n",
        "                right_word_id = corpus[right_idx]\n",
        "                co_matrix[word_id, right_word_id] += 1\n",
        "\n",
        "    return co_matrix\n"
      ],
      "execution_count": 0,
      "outputs": []
    },
    {
      "cell_type": "code",
      "metadata": {
        "id": "layYbwVPAjuc",
        "colab_type": "code",
        "colab": {}
      },
      "source": [
        "vocab_size = len(word_to_id)\n",
        "C = create_co_matrix(corpus, vocab_size)"
      ],
      "execution_count": 0,
      "outputs": []
    },
    {
      "cell_type": "code",
      "metadata": {
        "id": "Y5egTAQvAjwv",
        "colab_type": "code",
        "colab": {
          "base_uri": "https://localhost:8080/",
          "height": 136
        },
        "outputId": "ec035f6c-e7ff-4c0e-a08d-98b09378ace6"
      },
      "source": [
        "print(C)"
      ],
      "execution_count": 25,
      "outputs": [
        {
          "output_type": "stream",
          "text": [
            "[[0 1 0 0 0 0 0]\n",
            " [1 0 1 0 1 1 0]\n",
            " [0 1 0 1 0 0 0]\n",
            " [0 0 1 0 1 0 0]\n",
            " [0 1 0 1 0 0 0]\n",
            " [0 1 0 0 0 0 1]\n",
            " [0 0 0 0 0 1 0]]\n"
          ],
          "name": "stdout"
        }
      ]
    },
    {
      "cell_type": "code",
      "metadata": {
        "id": "0lfo8SJYAj3O",
        "colab_type": "code",
        "colab": {}
      },
      "source": [
        "def cos_similarity(x, y, eps=1e-8):\n",
        "    '''코사인 유사도 산출\n",
        "    :param x: 벡터\n",
        "    :param y: 벡터\n",
        "    :param eps: '0으로 나누기'를 방지하기 위한 작은 값\n",
        "    :return:\n",
        "    '''\n",
        "    nx = x / (np.sqrt(np.sum(x ** 2)) + eps)\n",
        "    ny = y / (np.sqrt(np.sum(y ** 2)) + eps)\n",
        "    return np.dot(nx, ny)"
      ],
      "execution_count": 0,
      "outputs": []
    },
    {
      "cell_type": "code",
      "metadata": {
        "id": "raXrAN9hAj5g",
        "colab_type": "code",
        "colab": {
          "base_uri": "https://localhost:8080/",
          "height": 34
        },
        "outputId": "7af470f1-02f1-4e30-a8f0-0d7ce4bf9a6b"
      },
      "source": [
        "c0 = C[word_to_id['you']]  # \"you\"의 단어 벡터\n",
        "c1 = C[word_to_id['i']]    # \"i\"의 단어 벡터\n",
        "print(cos_similarity(c0, c1))"
      ],
      "execution_count": 27,
      "outputs": [
        {
          "output_type": "stream",
          "text": [
            "0.7071067691154799\n"
          ],
          "name": "stdout"
        }
      ]
    },
    {
      "cell_type": "code",
      "metadata": {
        "id": "Lz2jg0PhB32a",
        "colab_type": "code",
        "colab": {}
      },
      "source": [
        "def most_similar(query, word_to_id, id_to_word, word_matrix, top=5):\n",
        "    '''유사 단어 검색\n",
        "    :param query: 쿼리(텍스트)\n",
        "    :param word_to_id: 단어에서 단어 ID로 변환하는 딕셔너리\n",
        "    :param id_to_word: 단어 ID에서 단어로 변환하는 딕셔너리\n",
        "    :param word_matrix: 단어 벡터를 정리한 행렬. 각 행에 해당 단어 벡터가 저장되어 있다고 가정한다.\n",
        "    :param top: 상위 몇 개까지 출력할 지 지정\n",
        "    '''\n",
        "    if query not in word_to_id:\n",
        "        print('%s(을)를 찾을 수 없습니다.' % query)\n",
        "        return\n",
        "\n",
        "    print('\\n[query] ' + query)\n",
        "    query_id = word_to_id[query]\n",
        "    query_vec = word_matrix[query_id]\n",
        "\n",
        "    # 코사인 유사도 계산\n",
        "    vocab_size = len(id_to_word)\n",
        "\n",
        "    similarity = np.zeros(vocab_size)\n",
        "    for i in range(vocab_size):\n",
        "        similarity[i] = cos_similarity(word_matrix[i], query_vec)\n",
        "\n",
        "    # 코사인 유사도를 기준으로 내림차순으로 출력\n",
        "    count = 0\n",
        "    for i in (-1 * similarity).argsort():\n",
        "        if id_to_word[i] == query:\n",
        "            continue\n",
        "        print(' %s: %s' % (id_to_word[i], similarity[i]))\n",
        "\n",
        "        count += 1\n",
        "        if count >= top:\n",
        "            return"
      ],
      "execution_count": 0,
      "outputs": []
    },
    {
      "cell_type": "code",
      "metadata": {
        "id": "np70DjI5B34r",
        "colab_type": "code",
        "colab": {
          "base_uri": "https://localhost:8080/",
          "height": 136
        },
        "outputId": "3483df16-ed84-4072-e1c2-28ff9bf77405"
      },
      "source": [
        "most_similar('you', word_to_id, id_to_word, C, top=5)"
      ],
      "execution_count": 29,
      "outputs": [
        {
          "output_type": "stream",
          "text": [
            "\n",
            "[query] you\n",
            " goodbye: 0.7071067691154799\n",
            " i: 0.7071067691154799\n",
            " hello: 0.7071067691154799\n",
            " say: 0.0\n",
            " and: 0.0\n"
          ],
          "name": "stdout"
        }
      ]
    },
    {
      "cell_type": "code",
      "metadata": {
        "id": "ZOuNdqu1B36z",
        "colab_type": "code",
        "colab": {
          "base_uri": "https://localhost:8080/",
          "height": 136
        },
        "outputId": "59aadfdd-9795-4409-a72a-121b8e3391ec"
      },
      "source": [
        "most_similar('say', word_to_id, id_to_word, C, top=5)"
      ],
      "execution_count": 30,
      "outputs": [
        {
          "output_type": "stream",
          "text": [
            "\n",
            "[query] say\n",
            " and: 0.7071067726510136\n",
            " .: 0.4999999925000001\n",
            " you: 0.0\n",
            " goodbye: 0.0\n",
            " i: 0.0\n"
          ],
          "name": "stdout"
        }
      ]
    },
    {
      "cell_type": "code",
      "metadata": {
        "id": "BhSxu5UqB39G",
        "colab_type": "code",
        "colab": {
          "base_uri": "https://localhost:8080/",
          "height": 136
        },
        "outputId": "17c55a3f-a296-4f11-9259-13e47b94dddc"
      },
      "source": [
        "most_similar('and', word_to_id, id_to_word, C, top=5)"
      ],
      "execution_count": 31,
      "outputs": [
        {
          "output_type": "stream",
          "text": [
            "\n",
            "[query] and\n",
            " say: 0.7071067726510136\n",
            " you: 0.0\n",
            " goodbye: 0.0\n",
            " i: 0.0\n",
            " hello: 0.0\n"
          ],
          "name": "stdout"
        }
      ]
    },
    {
      "cell_type": "code",
      "metadata": {
        "id": "47xRsCxYDwUo",
        "colab_type": "code",
        "colab": {}
      },
      "source": [
        "def ppmi(C, verbose=False, eps = 1e-8):\n",
        "    '''PPMI(점별 상호정보량) 생성\n",
        "    :param C: 동시발생 행렬\n",
        "    :param verbose: 진행 상황을 출력할지 여부\n",
        "    :return:\n",
        "    '''\n",
        "    M = np.zeros_like(C, dtype=np.float32)\n",
        "    N = np.sum(C)\n",
        "    S = np.sum(C, axis=0)\n",
        "    total = C.shape[0] * C.shape[1]\n",
        "    cnt = 0\n",
        "\n",
        "    for i in range(C.shape[0]):\n",
        "        for j in range(C.shape[1]):\n",
        "            pmi = np.log2(C[i, j] * N / (S[j]*S[i]) + eps)\n",
        "            M[i, j] = max(0, pmi)\n",
        "\n",
        "            if verbose:\n",
        "                cnt += 1\n",
        "                if cnt % (total//100) == 0:\n",
        "                    print('%.1f%% 완료' % (100*cnt/total))\n",
        "    return M"
      ],
      "execution_count": 0,
      "outputs": []
    },
    {
      "cell_type": "code",
      "metadata": {
        "id": "uSfE0C8QDwW5",
        "colab_type": "code",
        "colab": {
          "base_uri": "https://localhost:8080/",
          "height": 306
        },
        "outputId": "c1ac6dba-2008-409f-f411-400dba283f6b"
      },
      "source": [
        "W = ppmi(C)\n",
        "\n",
        "np.set_printoptions(precision=3)  # 유효 자릿수를 세 자리로 표시\n",
        "print('동시발생 행렬')\n",
        "print(C)\n",
        "print('-'*50)\n",
        "print('PPMI')\n",
        "print(W)"
      ],
      "execution_count": 33,
      "outputs": [
        {
          "output_type": "stream",
          "text": [
            "동시발생 행렬\n",
            "[[0 1 0 0 0 0 0]\n",
            " [1 0 1 0 1 1 0]\n",
            " [0 1 0 1 0 0 0]\n",
            " [0 0 1 0 1 0 0]\n",
            " [0 1 0 1 0 0 0]\n",
            " [0 1 0 0 0 0 1]\n",
            " [0 0 0 0 0 1 0]]\n",
            "--------------------------------------------------\n",
            "PPMI\n",
            "[[0.    1.807 0.    0.    0.    0.    0.   ]\n",
            " [1.807 0.    0.807 0.    0.807 0.807 0.   ]\n",
            " [0.    0.807 0.    1.807 0.    0.    0.   ]\n",
            " [0.    0.    1.807 0.    1.807 0.    0.   ]\n",
            " [0.    0.807 0.    1.807 0.    0.    0.   ]\n",
            " [0.    0.807 0.    0.    0.    0.    2.807]\n",
            " [0.    0.    0.    0.    0.    2.807 0.   ]]\n"
          ],
          "name": "stdout"
        }
      ]
    },
    {
      "cell_type": "code",
      "metadata": {
        "id": "se69rg80DwZB",
        "colab_type": "code",
        "colab": {}
      },
      "source": [
        "# SVD\n",
        "U, S, V = np.linalg.svd(W)"
      ],
      "execution_count": 0,
      "outputs": []
    },
    {
      "cell_type": "code",
      "metadata": {
        "id": "k00y2nsPEzjZ",
        "colab_type": "code",
        "colab": {
          "base_uri": "https://localhost:8080/",
          "height": 85
        },
        "outputId": "68bdc3f8-1478-41d5-8112-bea0ceab9d48"
      },
      "source": [
        "np.set_printoptions(precision=3)  # 유효 자릿수를 세 자리로 표시\n",
        "print(C[0])\n",
        "print(W[0])\n",
        "print(U[0])"
      ],
      "execution_count": 35,
      "outputs": [
        {
          "output_type": "stream",
          "text": [
            "[0 1 0 0 0 0 0]\n",
            "[0.    1.807 0.    0.    0.    0.    0.   ]\n",
            "[ 3.409e-01  0.000e+00 -1.205e-01 -3.886e-16 -9.323e-01 -1.110e-16\n",
            " -2.426e-17]\n"
          ],
          "name": "stdout"
        }
      ]
    },
    {
      "cell_type": "code",
      "metadata": {
        "id": "bG2pFdM0Ezl1",
        "colab_type": "code",
        "colab": {
          "base_uri": "https://localhost:8080/",
          "height": 269
        },
        "outputId": "5aa68976-f287-42d7-9661-cb60c41b8432"
      },
      "source": [
        "import matplotlib.pyplot as plt\n",
        "# 플롯\n",
        "for word, word_id in word_to_id.items():\n",
        "    plt.annotate(word, (U[word_id, 0], U[word_id, 1]))\n",
        "plt.scatter(U[:,0], U[:,1], alpha=0.5)\n",
        "plt.show()"
      ],
      "execution_count": 36,
      "outputs": [
        {
          "output_type": "display_data",
          "data": {
            "image/png": "[encoded data removed]",
            "text/plain": [
              "<Figure size 432x288 with 1 Axes>"
            ]
          },
          "metadata": {
            "tags": []
          }
        }
      ]
    },
    {
      "cell_type": "code",
      "metadata": {
        "id": "s5nD2PtGEzoJ",
        "colab_type": "code",
        "colab": {
          "base_uri": "https://localhost:8080/",
          "height": 204
        },
        "outputId": "3b4d9789-c8b5-4f97-819e-a4282f1d8c40"
      },
      "source": [
        "from dataset import ptb\n",
        "\n",
        "\n",
        "corpus, word_to_id, id_to_word = ptb.load_data('train')\n",
        "\n",
        "print('말뭉치 크기:', len(corpus))\n",
        "print('corpus[:30]:', corpus[:30])\n",
        "print()\n",
        "print('id_to_word[0]:', id_to_word[0])\n",
        "print('id_to_word[1]:', id_to_word[1])\n",
        "print('id_to_word[2]:', id_to_word[2])\n",
        "print()\n",
        "print(\"word_to_id['car']:\", word_to_id['car'])\n",
        "print(\"word_to_id['happy']:\", word_to_id['happy'])\n",
        "print(\"word_to_id['lexus']:\", word_to_id['lexus'])"
      ],
      "execution_count": 37,
      "outputs": [
        {
          "output_type": "stream",
          "text": [
            "말뭉치 크기: 929589\n",
            "corpus[:30]: [ 0  1  2  3  4  5  6  7  8  9 10 11 12 13 14 15 16 17 18 19 20 21 22 23\n",
            " 24 25 26 27 28 29]\n",
            "\n",
            "id_to_word[0]: aer\n",
            "id_to_word[1]: banknote\n",
            "id_to_word[2]: berlitz\n",
            "\n",
            "word_to_id['car']: 3856\n",
            "word_to_id['happy']: 4428\n",
            "word_to_id['lexus']: 7426\n"
          ],
          "name": "stdout"
        }
      ]
    },
    {
      "cell_type": "code",
      "metadata": {
        "id": "JhgReigEEzqE",
        "colab_type": "code",
        "colab": {
          "base_uri": "https://localhost:8080/",
          "height": 612
        },
        "outputId": "6db8df7e-7044-4f81-8b47-6711e7001fb4"
      },
      "source": [
        "!cat count_method_big_gpu.py"
      ],
      "execution_count": 46,
      "outputs": [
        {
          "output_type": "stream",
          "text": [
            "# coding: utf-8\n",
            "import sys\n",
            "sys.path.append('..')\n",
            "import numpy as np\n",
            "from common.util import most_similar, create_co_matrix, ppmi\n",
            "from dataset import ptb\n",
            "\n",
            "from common import config\n",
            "config.GPU = True\n",
            "\n",
            "window_size = 2\n",
            "wordvec_size = 100\n",
            "\n",
            "corpus, word_to_id, id_to_word = ptb.load_data('train')\n",
            "vocab_size = len(word_to_id)\n",
            "print('동시발생 수 계산 ...')\n",
            "C = create_co_matrix(corpus, vocab_size, window_size)\n",
            "print('PPMI 계산 ...')\n",
            "W = ppmi(C, verbose=True)\n",
            "\n",
            "print('calculating SVD ...')\n",
            "try:\n",
            "    # truncated SVD (빠르다!)\n",
            "    from sklearn.utils.extmath import randomized_svd\n",
            "    U, S, V = randomized_svd(W, n_components=wordvec_size, n_iter=5,\n",
            "                             random_state=None)\n",
            "except ImportError:\n",
            "    # SVD (느리다)\n",
            "    U, S, V = np.linalg.svd(W)\n",
            "\n",
            "word_vecs = U[:, :wordvec_size]\n",
            "\n",
            "querys = ['you', 'year', 'car', 'toyota']\n",
            "for query in querys:\n",
            "    most_similar(query, word_to_id, id_to_word, word_vecs, top=5)\n"
          ],
          "name": "stdout"
        }
      ]
    },
    {
      "cell_type": "code",
      "metadata": {
        "id": "gr8CQUDcFb1U",
        "colab_type": "code",
        "colab": {
          "base_uri": "https://localhost:8080/",
          "height": 316
        },
        "outputId": "012ce86b-3417-4494-9506-789240d4c44c"
      },
      "source": [
        "!python count_method_big_gpu.py"
      ],
      "execution_count": 0,
      "outputs": [
        {
          "output_type": "stream",
          "text": [
            "동시발생 수 계산 ...\n",
            "PPMI 계산 ...\n",
            "1.0% 완료\n",
            "2.0% 완료\n",
            "3.0% 완료\n",
            "4.0% 완료\n",
            "5.0% 완료\n",
            "6.0% 완료\n",
            "7.0% 완료\n",
            "8.0% 완료\n",
            "9.0% 완료\n",
            "10.0% 완료\n",
            "11.0% 완료\n",
            "12.0% 완료\n",
            "13.0% 완료\n",
            "14.0% 완료\n"
          ],
          "name": "stdout"
        }
      ]
    },
    {
      "cell_type": "code",
      "metadata": {
        "id": "PCJXC4ZAFb37",
        "colab_type": "code",
        "colab": {}
      },
      "source": [
        ""
      ],
      "execution_count": 0,
      "outputs": []
    },
    {
      "cell_type": "code",
      "metadata": {
        "id": "wt-VjVpRFb6D",
        "colab_type": "code",
        "colab": {}
      },
      "source": [
        ""
      ],
      "execution_count": 0,
      "outputs": []
    },
    {
      "cell_type": "code",
      "metadata": {
        "id": "FKgSQOJ6Fb8V",
        "colab_type": "code",
        "colab": {}
      },
      "source": [
        ""
      ],
      "execution_count": 0,
      "outputs": []
    },
    {
      "cell_type": "code",
      "metadata": {
        "id": "vATSMaUuqQHm",
        "colab_type": "code",
        "colab": {}
      },
      "source": [
        "#!python count_method_big.py"
      ],
      "execution_count": 0,
      "outputs": []
    },
    {
      "cell_type": "code",
      "metadata": {
        "id": "YLNh_98gr2ps",
        "colab_type": "code",
        "colab": {}
      },
      "source": [
        ""
      ],
      "execution_count": 0,
      "outputs": []
    }
  ]
}