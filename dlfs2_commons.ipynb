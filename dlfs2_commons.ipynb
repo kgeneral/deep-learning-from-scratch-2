{
  "nbformat": 4,
  "nbformat_minor": 0,
  "metadata": {
    "colab": {
      "name": "dlfs2_commons.ipynb",
      "version": "0.3.2",
      "provenance": [],
      "collapsed_sections": [],
      "include_colab_link": true
    },
    "kernelspec": {
      "name": "python3",
      "display_name": "Python 3"
    },
    "accelerator": "GPU"
  },
  "cells": [
    {
      "cell_type": "markdown",
      "metadata": {
        "id": "view-in-github",
        "colab_type": "text"
      },
      "source": [
        "<a href=\"https://colab.research.google.com/github/kgeneral/deep-learning-from-scratch-2/blob/master/dlfs2_commons.ipynb\" target=\"_parent\"><img src=\"https://colab.research.google.com/assets/colab-badge.svg\" alt=\"Open In Colab\"/></a>"
      ]
    },
    {
      "cell_type": "code",
      "metadata": {
        "id": "Aeq_eCrriOQi",
        "colab_type": "code",
        "colab": {}
      },
      "source": [
        "!rm -rf deep-learning-from-scratch-2"
      ],
      "execution_count": 0,
      "outputs": []
    },
    {
      "cell_type": "code",
      "metadata": {
        "id": "sQ7ADc5lpiff",
        "colab_type": "code",
        "outputId": "5ccc39cd-9a11-442d-8d32-713e66d962a3",
        "colab": {
          "base_uri": "https://localhost:8080/",
          "height": 136
        }
      },
      "source": [
        "!git clone https://github.com/kgeneral/deep-learning-from-scratch-2.git"
      ],
      "execution_count": 0,
      "outputs": [
        {
          "output_type": "stream",
          "text": [
            "Cloning into 'deep-learning-from-scratch-2'...\n",
            "remote: Enumerating objects: 59, done.\u001b[K\n",
            "remote: Counting objects: 100% (59/59), done.\u001b[K\n",
            "remote: Compressing objects: 100% (51/51), done.\u001b[K\n",
            "remote: Total 587 (delta 26), reused 23 (delta 8), pack-reused 528\u001b[K\n",
            "Receiving objects: 100% (587/587), 7.91 MiB | 5.36 MiB/s, done.\n",
            "Resolving deltas: 100% (342/342), done.\n"
          ],
          "name": "stdout"
        }
      ]
    },
    {
      "cell_type": "code",
      "metadata": {
        "id": "9gaeA6gTGfEq",
        "colab_type": "code",
        "colab": {}
      },
      "source": [
        "#!cd deep-learning-from-scratch-2 && git pull "
      ],
      "execution_count": 0,
      "outputs": []
    },
    {
      "cell_type": "code",
      "metadata": {
        "id": "kPyGQlK5pmXk",
        "colab_type": "code",
        "colab": {}
      },
      "source": [
        "!ln -s ./deep-learning-from-scratch-2/common common"
      ],
      "execution_count": 0,
      "outputs": []
    },
    {
      "cell_type": "code",
      "metadata": {
        "id": "1ZpSv_GDsUPD",
        "colab_type": "code",
        "colab": {}
      },
      "source": [
        "!ln -s ./deep-learning-from-scratch-2/dataset dataset"
      ],
      "execution_count": 0,
      "outputs": []
    },
    {
      "cell_type": "code",
      "metadata": {
        "id": "gFSBFTmacPv-",
        "colab_type": "code",
        "colab": {}
      },
      "source": [
        ""
      ],
      "execution_count": 0,
      "outputs": []
    }
  ]
}